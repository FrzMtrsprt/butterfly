{
 "cells": [
  {
   "cell_type": "code",
   "execution_count": null,
   "metadata": {},
   "outputs": [],
   "source": [
    "import os\n",
    "import time\n",
    "\n",
    "import torch\n",
    "from torch.utils.data import DataLoader\n",
    "from torchvision.models.alexnet import AlexNet\n",
    "from torchvision.transforms import Compose, Normalize, Resize, ToTensor\n",
    "\n",
    "from dataset_models import BndboxDataset\n",
    "from selective_search import selective_search\n"
   ]
  },
  {
   "cell_type": "code",
   "execution_count": null,
   "metadata": {},
   "outputs": [],
   "source": [
    "# 指定数据集目录\n",
    "image_path = os.path.abspath('datasets/JPEGImages/IMG_000001.jpg')\n",
    "if not os.path.exists(image_path):\n",
    "    raise Exception(f\"{image_path} path does not exist.\")\n"
   ]
  },
  {
   "cell_type": "code",
   "execution_count": null,
   "metadata": {},
   "outputs": [],
   "source": [
    "# load the model and evaluate it\n",
    "model_path = './weights/Alexnet.pth'\n",
    "model = AlexNet(num_classes=94)\n",
    "device = torch.device(\"cuda:0\" if torch.cuda.is_available() else \"cpu\")\n",
    "state_dict = torch.load(model_path, map_location=device)\n",
    "model.load_state_dict(state_dict)\n",
    "model.eval()\n"
   ]
  },
  {
   "cell_type": "code",
   "execution_count": null,
   "metadata": {},
   "outputs": [],
   "source": [
    "rects = selective_search(image_path)\n",
    "len(rects)"
   ]
  },
  {
   "cell_type": "code",
   "execution_count": null,
   "metadata": {},
   "outputs": [],
   "source": [
    "data_transform = Compose([Resize((224, 224)),\n",
    "                          ToTensor(),\n",
    "                          Normalize((0.5, 0.5, 0.5), (0.5, 0.5, 0.5))])\n",
    "validate_dataset = BndboxDataset(image_path, rects, data_transform)\n"
   ]
  },
  {
   "cell_type": "code",
   "execution_count": null,
   "metadata": {},
   "outputs": [],
   "source": [
    "validate_loader = DataLoader(\n",
    "    validate_dataset, batch_size=4, shuffle=False, num_workers=os.cpu_count())\n",
    "len(validate_dataset)\n"
   ]
  },
  {
   "cell_type": "code",
   "execution_count": null,
   "metadata": {},
   "outputs": [],
   "source": [
    "\n",
    "with torch.no_grad():\n",
    "    for val_data in validate_loader:\n",
    "        begin = time.time()\n",
    "        outputs = model(val_data)\n",
    "        predict_y = torch.max(outputs, dim=1)\n",
    "        end = time.time()\n",
    "        print(f'cost time: {end - begin}s')\n",
    "        print(predict_y)\n",
    "        "
   ]
  }
 ],
 "metadata": {
  "kernelspec": {
   "display_name": "Python 3",
   "language": "python",
   "name": "python3"
  },
  "language_info": {
   "codemirror_mode": {
    "name": "ipython",
    "version": 3
   },
   "file_extension": ".py",
   "mimetype": "text/x-python",
   "name": "python",
   "nbconvert_exporter": "python",
   "pygments_lexer": "ipython3",
   "version": "3.8.10"
  },
  "orig_nbformat": 4
 },
 "nbformat": 4,
 "nbformat_minor": 2
}
