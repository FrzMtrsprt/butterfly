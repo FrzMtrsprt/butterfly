{
 "cells": [
  {
   "cell_type": "code",
   "execution_count": null,
   "metadata": {},
   "outputs": [],
   "source": [
    "import os\n",
    "import time\n",
    "from typing import List\n",
    "\n",
    "import torch\n",
    "from torch.utils.data import DataLoader\n",
    "from torchvision import transforms\n",
    "from torchvision.models.alexnet import AlexNet\n",
    "\n",
    "from dataset_models import DetectionDataset"
   ]
  },
  {
   "cell_type": "code",
   "execution_count": null,
   "metadata": {},
   "outputs": [],
   "source": [
    "# 指定数据集目录\n",
    "image_path = os.path.abspath('datasets/JPEGImages/')\n",
    "if not os.path.exists(image_path):\n",
    "    raise Exception(f\"{image_path} path does not exist.\")\n",
    "\n",
    "anno_path = os.path.abspath('datasets/Annotations/')\n",
    "if not os.path.exists(anno_path):\n",
    "    raise Exception(f\"{anno_path} path does not exist.\")\n",
    "\n",
    "prop_dir = os.path.abspath('datasets/Proposals/')\n",
    "if not os.path.exists(prop_dir):\n",
    "    raise Exception(f\"{prop_dir} path does not exist.\")\n"
   ]
  },
  {
   "cell_type": "code",
   "execution_count": null,
   "metadata": {},
   "outputs": [],
   "source": [
    "transform = transforms.Compose([\n",
    "    transforms.Resize((224, 224)),\n",
    "    transforms.ToTensor(),\n",
    "    transforms.Normalize((0.5, 0.5, 0.5), (0.5, 0.5, 0.5))\n",
    "])\n"
   ]
  },
  {
   "cell_type": "code",
   "execution_count": null,
   "metadata": {},
   "outputs": [],
   "source": [
    "batch_size = 64\n",
    "cpu_count = os.cpu_count()\n",
    "num_workers = cpu_count if cpu_count else 1"
   ]
  },
  {
   "cell_type": "code",
   "execution_count": null,
   "metadata": {},
   "outputs": [],
   "source": [
    "dataset = DetectionDataset(image_path, prop_dir, transform)\n",
    "loader = DataLoader(dataset, batch_size=64, shuffle=False, num_workers=num_workers)\n"
   ]
  },
  {
   "cell_type": "code",
   "execution_count": null,
   "metadata": {},
   "outputs": [],
   "source": [
    "# load the model and evaluate it\n",
    "model_path = './weights/Detection.pth'\n",
    "model = AlexNet(num_classes=2)\n",
    "device = torch.device(\"cuda:0\" if torch.cuda.is_available() else \"cpu\")\n",
    "state_dict = torch.load(model_path, map_location=device)\n",
    "model.load_state_dict(state_dict)\n",
    "model.eval()\n"
   ]
  },
  {
   "cell_type": "code",
   "execution_count": null,
   "metadata": {},
   "outputs": [],
   "source": [
    "match_list: List[int] = []\n",
    "with torch.no_grad():\n",
    "    for i, val_data in enumerate(loader):\n",
    "        val_images, val_labels = val_data\n",
    "        outputs = model(val_images)\n",
    "        predict_y = torch.max(outputs, dim=1)[1]\n",
    "        print(f'{i}/{len(loader)}')\n",
    "        match_list.append([n + i * batch_size for n, eq in enumerate(torch.eq(predict_y, val_labels)) if eq])\n",
    "        \n"
   ]
  }
 ],
 "metadata": {
  "kernelspec": {
   "display_name": ".venv",
   "language": "python",
   "name": "python3"
  },
  "language_info": {
   "codemirror_mode": {
    "name": "ipython",
    "version": 3
   },
   "file_extension": ".py",
   "mimetype": "text/x-python",
   "name": "python",
   "nbconvert_exporter": "python",
   "pygments_lexer": "ipython3",
   "version": "3.11.3"
  },
  "orig_nbformat": 4
 },
 "nbformat": 4,
 "nbformat_minor": 2
}
